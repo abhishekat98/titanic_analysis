{
 "cells": [
  {
   "cell_type": "code",
   "execution_count": 1,
   "id": "dd8fb459-6416-4eb7-8ffc-7593f68a80d4",
   "metadata": {},
   "outputs": [],
   "source": [
    "import pandas as pd\n"
   ]
  },
  {
   "cell_type": "code",
   "execution_count": 6,
   "id": "b2b05d4c-5f47-4196-a486-d513dbd3c69a",
   "metadata": {},
   "outputs": [],
   "source": [
    "df=pd.read_csv(r'C:\\Users\\Admin\\Documents\\GitHub\\titanic\\dataset_titanic.csv')\n"
   ]
  },
  {
   "cell_type": "code",
   "execution_count": null,
   "id": "3f915be2-6ca9-41b6-836e-07d534d61925",
   "metadata": {},
   "outputs": [],
   "source": []
  },
  {
   "cell_type": "markdown",
   "id": "95be4dc0",
   "metadata": {},
   "source": [
    "\n",
    "## 📌 Summary Insights\n",
    "\n",
    "1. **Gender and Survival:**\n",
    "   - Females had a much higher survival rate than males.\n",
    "   - This aligns with the \"women and children first\" rescue approach.\n",
    "\n",
    "2. **Class and Survival:**\n",
    "   - Passengers in **1st class** had a significantly higher survival rate.\n",
    "   - Survival rate decreased with lower classes (Pclass 3 had the lowest).\n",
    "\n",
    "3. **Age Distribution:**\n",
    "   - Most passengers were between 20–40 years old.\n",
    "   - There were fewer very old or very young passengers.\n",
    "\n",
    "4. **Correlations:**\n",
    "   - `Pclass` has a negative correlation with survival (higher class → more survival).\n",
    "   - `Sex` is strongly correlated with survival (being female → higher chance).\n"
   ]
  }
 ],
 "metadata": {
  "kernelspec": {
   "display_name": "Python 3 (ipykernel)",
   "language": "python",
   "name": "python3"
  },
  "language_info": {
   "codemirror_mode": {
    "name": "ipython",
    "version": 3
   },
   "file_extension": ".py",
   "mimetype": "text/x-python",
   "name": "python",
   "nbconvert_exporter": "python",
   "pygments_lexer": "ipython3",
   "version": "3.13.3"
  }
 },
 "nbformat": 4,
 "nbformat_minor": 5
}
